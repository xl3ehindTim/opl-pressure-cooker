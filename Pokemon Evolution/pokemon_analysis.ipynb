{
 "cells": [
  {
   "cell_type": "code",
   "execution_count": 34,
   "metadata": {},
   "outputs": [],
   "source": [
    "# Import required libraries\n",
    "import pandas as pd\n",
    "import random\n"
   ]
  },
  {
   "cell_type": "markdown",
   "metadata": {},
   "source": [
    "# Data Loading Function"
   ]
  },
  {
   "cell_type": "code",
   "execution_count": 35,
   "metadata": {},
   "outputs": [],
   "source": [
    "def load_pokemon_data():\n",
    "    # Load the Pokemon dataset\n",
    "    df = pd.read_csv('deteset/pokemon.csv')\n",
    "    # Create evolution chains dictionary\n",
    "    evolution_chains = {}\n",
    "    \n",
    "    # Group Pokemon by their base stats and types to identify evolution chains\n",
    "    for idx, row in df.iterrows():\n",
    "        base_form = row['name']\n",
    "        base_total = row['base_total']\n",
    "        \n",
    "        # Look for potential evolutions (Pokemon with similar types and higher stats)\n",
    "        evolutions = df[\n",
    "            (df['type1'] == row['type1']) & \n",
    "            (df['base_total'] > base_total) &\n",
    "            (abs(df['pokedex_number'] - row['pokedex_number']) <= 2)  # Usually evolutions are close in Pokedex\n",
    "        ]['name'].tolist()\n",
    "        \n",
    "        if evolutions:\n",
    "            evolution_chains[base_form] = evolutions\n",
    "    \n",
    "    return df, evolution_chains"
   ]
  },
  {
   "cell_type": "markdown",
   "metadata": {},
   "source": [
    "# Pokemon Encounter Function"
   ]
  },
  {
   "cell_type": "code",
   "execution_count": 36,
   "metadata": {},
   "outputs": [],
   "source": [
    "def encounter_pokemon(pokemon_data):\n",
    "    # Randomly select a Pokemon (excluding legendaries)\n",
    "    non_legendary = pokemon_data[pokemon_data['is_legendary'] == 0]\n",
    "    pokemon = non_legendary.sample(1).iloc[0]\n",
    "    \n",
    "    # Simulate random stats (IVs)\n",
    "    iv_hp = random.randint(0, 31)\n",
    "    iv_attack = random.randint(0, 31)\n",
    "    iv_defense = random.randint(0, 31)\n",
    "    iv_speed = random.randint(0, 31)\n",
    "    \n",
    "    # Calculate total IVs\n",
    "    total_ivs = iv_hp + iv_attack + iv_defense + iv_speed\n",
    "    iv_percentage = (total_ivs / 124) * 100  # 124 is max possible IV total\n",
    "    \n",
    "    return pokemon, iv_percentage"
   ]
  },
  {
   "cell_type": "markdown",
   "metadata": {},
   "source": [
    "# Evolution Evaluation Function"
   ]
  },
  {
   "cell_type": "code",
   "execution_count": 37,
   "metadata": {},
   "outputs": [],
   "source": [
    "def evaluate_evolution(pokemon, iv_percentage, pokemon_data, evolution_chains):\n",
    "    if pokemon['name'] not in evolution_chains:\n",
    "        return f\"This Pokemon ({pokemon['name']}) has no evolutions.\"\n",
    "    \n",
    "    evolutions = evolution_chains[pokemon['name']]\n",
    "    base_stats = pokemon['base_total']\n",
    "    \n",
    "    evolution_info = []\n",
    "    for evolution in evolutions:\n",
    "        evolved_stats = pokemon_data[pokemon_data['name'] == evolution]['base_total'].iloc[0]\n",
    "        stat_increase = evolved_stats - base_stats\n",
    "        evolution_info.append((evolution, stat_increase))\n",
    "    \n",
    "    # Make recommendation based on IVs and potential stat gains\n",
    "    if iv_percentage >= 85:\n",
    "        recommendation = \"HIGHLY RECOMMENDED\"\n",
    "    elif iv_percentage >= 70:\n",
    "        recommendation = \"Recommended\"\n",
    "    elif iv_percentage >= 50:\n",
    "        recommendation = \"Consider evolving\"\n",
    "    else:\n",
    "        recommendation = \"Not recommended - Low IVs\"\n",
    "    \n",
    "    result = f\"\\nPokemon: {pokemon['name']}\"\n",
    "    result += f\"\\nIV Quality: {iv_percentage:.1f}%\"\n",
    "    result += f\"\\nEvolution Recommendation: {recommendation}\"\n",
    "    result += \"\\n\\nPossible Evolutions:\"\n",
    "    \n",
    "    for evolution, stat_increase in evolution_info:\n",
    "        result += f\"\\n- {evolution} (Stats +{stat_increase})\"\n",
    "    \n",
    "    return result"
   ]
  },
  {
   "cell_type": "markdown",
   "metadata": {},
   "source": [
    "# Log Encounter Function"
   ]
  },
  {
   "cell_type": "code",
   "execution_count": 38,
   "metadata": {},
   "outputs": [],
   "source": [
    "def log_encounter(pokemon, iv_percentage, evaluation):\n",
    "    # Create a dictionary with the encounter data\n",
    "    encounter_data = {\n",
    "        'date': pd.Timestamp.now(),\n",
    "        'pokemon': pokemon['name'],\n",
    "        'iv_percentage': round(iv_percentage, 1),\n",
    "        'evaluation': evaluation\n",
    "    }\n",
    "\n",
    "    # Add a separator row\n",
    "    separator_data = {\n",
    "        'date': '-' * 20,\n",
    "        'pokemon': '-' * 20,\n",
    "        'iv_percentage': '-' * 20,\n",
    "        'evaluation': '-' * 20\n",
    "    }\n",
    "    \n",
    "    # Convert to DataFrame\n",
    "    encounter_df = pd.DataFrame([encounter_data, separator_data])\n",
    "    \n",
    "    # Append to CSV file (create if doesn't exist)\n",
    "    encounter_df.to_csv('pokemon_encounters.csv', \n",
    "                       mode='a', \n",
    "                       header=not pd.io.common.file_exists('pokemon_encounters.csv'),\n",
    "                       index=False)"
   ]
  },
  {
   "cell_type": "markdown",
   "metadata": {},
   "source": [
    "# Interactive Cell (run this cell multiple times to simulate different encounters)"
   ]
  },
  {
   "cell_type": "code",
   "execution_count": 49,
   "metadata": {},
   "outputs": [
    {
     "name": "stdout",
     "output_type": "stream",
     "text": [
      "\n",
      "Pokemon: Kadabra\n",
      "IV Quality: 85.5%\n",
      "Evolution Recommendation: HIGHLY RECOMMENDED\n",
      "\n",
      "Possible Evolutions:\n",
      "- Alakazam (Stats +200)\n"
     ]
    }
   ],
   "source": [
    "pokemon, iv_percentage = encounter_pokemon(pokemon_data)\n",
    "evaluation = evaluate_evolution(pokemon, iv_percentage, pokemon_data, evolution_chains)\n",
    "print(evaluation)\n",
    "log_encounter(pokemon, iv_percentage, evaluation)"
   ]
  }
 ],
 "metadata": {
  "kernelspec": {
   "display_name": "gymenv",
   "language": "python",
   "name": "python3"
  },
  "language_info": {
   "codemirror_mode": {
    "name": "ipython",
    "version": 3
   },
   "file_extension": ".py",
   "mimetype": "text/x-python",
   "name": "python",
   "nbconvert_exporter": "python",
   "pygments_lexer": "ipython3",
   "version": "3.11.9"
  }
 },
 "nbformat": 4,
 "nbformat_minor": 2
}
